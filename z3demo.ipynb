{
 "cells": [
  {
   "cell_type": "markdown",
   "id": "02af1b64",
   "metadata": {},
   "source": [
    "# z3 Demo\n",
    "\n",
    "Solve symbolic expressions in python using z3!\n",
    "\n",
    "Wikipedia: https://en.wikipedia.org/wiki/Z3_Theorem_Prover\n",
    "\n",
    "GitHub: https://github.com/Z3Prover\n",
    "\n",
    "Web: http://z3prover.github.io/\n",
    "\n",
    "## getting started"
   ]
  },
  {
   "cell_type": "code",
   "execution_count": 1,
   "id": "eb06b03b",
   "metadata": {},
   "outputs": [],
   "source": [
    "import z3"
   ]
  },
  {
   "cell_type": "markdown",
   "id": "843aa3f1",
   "metadata": {},
   "source": [
    "Instantiate variable objects:"
   ]
  },
  {
   "cell_type": "code",
   "execution_count": 2,
   "id": "eaa7485f",
   "metadata": {},
   "outputs": [],
   "source": [
    "x = z3.Real('x')\n",
    "y = z3.Real('y')"
   ]
  },
  {
   "cell_type": "markdown",
   "id": "0cbfe5c4",
   "metadata": {},
   "source": [
    "Define equations:"
   ]
  },
  {
   "cell_type": "code",
   "execution_count": 3,
   "id": "0c9dad67",
   "metadata": {},
   "outputs": [],
   "source": [
    "eq1 = y == 3 * x**2 + 100*x - 300\n",
    "eq2 = y == 27"
   ]
  },
  {
   "cell_type": "markdown",
   "id": "2b717ed6",
   "metadata": {},
   "source": [
    "Run solver:"
   ]
  },
  {
   "cell_type": "code",
   "execution_count": 6,
   "id": "51369b35",
   "metadata": {},
   "outputs": [
    {
     "name": "stdout",
     "output_type": "stream",
     "text": [
      "[x = -109/3, y = 27]\n"
     ]
    }
   ],
   "source": [
    "z3.solve([eq1, eq2, x != 3])"
   ]
  },
  {
   "cell_type": "markdown",
   "id": "d240a38c",
   "metadata": {},
   "source": [
    "## get numeric result\n",
    "\n",
    "Instantiate solver object (will store equations and result):"
   ]
  },
  {
   "cell_type": "code",
   "execution_count": null,
   "id": "46b83e25",
   "metadata": {},
   "outputs": [],
   "source": [
    "s = z3.Solver()"
   ]
  },
  {
   "cell_type": "markdown",
   "id": "73310483",
   "metadata": {},
   "source": [
    "Add equations to solver object:"
   ]
  },
  {
   "cell_type": "code",
   "execution_count": null,
   "id": "61b6f67b",
   "metadata": {},
   "outputs": [],
   "source": [
    "s.add(eq1)\n",
    "s.add(eq2)"
   ]
  },
  {
   "cell_type": "markdown",
   "id": "1a3b9964",
   "metadata": {},
   "source": [
    "Run solver:"
   ]
  },
  {
   "cell_type": "code",
   "execution_count": null,
   "id": "f71c7d01",
   "metadata": {},
   "outputs": [],
   "source": [
    "s.check()"
   ]
  },
  {
   "cell_type": "markdown",
   "id": "207f51bb",
   "metadata": {},
   "source": [
    "Extract optimized model (= solved equation system):"
   ]
  },
  {
   "cell_type": "code",
   "execution_count": null,
   "id": "42bdbc5e",
   "metadata": {},
   "outputs": [],
   "source": [
    "m = s.model()\n",
    "print(m)"
   ]
  },
  {
   "cell_type": "markdown",
   "id": "12f299f3",
   "metadata": {},
   "source": [
    "Extract symbolic value:"
   ]
  },
  {
   "cell_type": "code",
   "execution_count": null,
   "id": "19ad4acb",
   "metadata": {},
   "outputs": [],
   "source": [
    "r=m[x]\n",
    "print(r)"
   ]
  },
  {
   "cell_type": "markdown",
   "id": "3c3dc77f",
   "metadata": {},
   "source": [
    "Numeric values:"
   ]
  },
  {
   "cell_type": "code",
   "execution_count": null,
   "id": "a35af0fd",
   "metadata": {},
   "outputs": [],
   "source": [
    "print(r.numerator_as_long())\n",
    "print('----------------------')\n",
    "print(r.denominator_as_long())"
   ]
  },
  {
   "cell_type": "markdown",
   "id": "4fc32a6a",
   "metadata": {},
   "source": [
    "Convert to float:"
   ]
  },
  {
   "cell_type": "code",
   "execution_count": null,
   "id": "93b08d13",
   "metadata": {},
   "outputs": [],
   "source": [
    "xv = r.numerator_as_long()/r.denominator_as_long()\n",
    "print(xv)"
   ]
  },
  {
   "cell_type": "code",
   "execution_count": null,
   "id": "db0ae5e0",
   "metadata": {},
   "outputs": [],
   "source": []
  },
  {
   "cell_type": "code",
   "execution_count": null,
   "id": "441e96fa",
   "metadata": {},
   "outputs": [],
   "source": []
  }
 ],
 "metadata": {
  "kernelspec": {
   "display_name": "Python 3",
   "language": "python",
   "name": "python3"
  },
  "language_info": {
   "codemirror_mode": {
    "name": "ipython",
    "version": 3
   },
   "file_extension": ".py",
   "mimetype": "text/x-python",
   "name": "python",
   "nbconvert_exporter": "python",
   "pygments_lexer": "ipython3",
   "version": "3.8.10"
  }
 },
 "nbformat": 4,
 "nbformat_minor": 5
}
